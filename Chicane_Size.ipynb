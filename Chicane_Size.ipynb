{
  "nbformat": 4,
  "nbformat_minor": 0,
  "metadata": {
    "colab": {
      "name": "Chicane Size",
      "provenance": [],
      "collapsed_sections": []
    },
    "kernelspec": {
      "name": "python3",
      "display_name": "Python 3"
    }
  },
  "cells": [
    {
      "cell_type": "markdown",
      "metadata": {
        "id": "kRKiBy5TX1v7"
      },
      "source": [
        "# Schematics:\n",
        "![Schematics.jpg](https://i.ibb.co/PgBqfMx/Schematics.jpg)\n",
        "We use the figures taken from Jefferson Laboratory's setup for our estimated chicane size.\n",
        "\n"
      ]
    },
    {
      "cell_type": "code",
      "metadata": {
        "id": "1dNivWOj8jC5"
      },
      "source": [
        "## imports\n",
        "import numpy as np\n",
        "import matplotlib.pyplot as plt\n",
        "\n",
        "## constants\n",
        "a = 3.22261 # bending angle in degrees\n",
        "r = 17.7887 # radius of curvature in meters\n",
        "# Br = 3.33564 # Magnetic field * radius of curvature in ##\n",
        "B = 1.5 # Magnetic field strength in Tesla\n",
        "p = 7 # Photon beam energy GeV\n",
        "L = 1 # dipole length in meters\n",
        "\n",
        "## Dipole distances\n",
        "d12 = 0 # dipoles 1 to 2 in meters \n",
        "d23 = 1 # dipoles 2 to 3 in meters, this wasn't given by jlab, so we took a minimum estimate\n",
        "d34 = 0 # dipoles 3 to 4 in meters "
      ],
      "execution_count": null,
      "outputs": []
    },
    {
      "cell_type": "markdown",
      "metadata": {
        "id": "UBqU4xXCR14N"
      },
      "source": [
        "### Finding maximum horizontal deviation"
      ]
    },
    {
      "cell_type": "code",
      "metadata": {
        "id": "c65K-lGURs7f",
        "colab": {
          "base_uri": "https://localhost:8080/",
          "height": 304
        },
        "outputId": "dbd666f4-ecd2-49bf-97b2-fd595af2d032"
      },
      "source": [
        "def max_dev(d12 = d12, B = B, p = p):\n",
        "  return ((0.3 * B * L)/p * (L + d12))*100\n",
        "\n",
        "max_devarr = np.linspace(0, 5)\n",
        "\n",
        "# Plotting\n",
        "plt.grid()\n",
        "plt.plot(max_devarr, max_dev(max_devarr))\n",
        "plt.xlabel(\"$D_{12}$\")\n",
        "plt.ylabel(\"$d_{max}$\")\n",
        "\n",
        "print(\"dmax = \" + str(round(max_dev(), 2)) + \"cm\") # printing horizontal deviation in cm"
      ],
      "execution_count": null,
      "outputs": [
        {
          "output_type": "stream",
          "text": [
            "dmax = 6.43cm\n"
          ],
          "name": "stdout"
        },
        {
          "output_type": "display_data",
          "data": {
            "image/png": "[encoded data removed]",
            "text/plain": [
              "<Figure size 432x288 with 1 Axes>"
            ]
          },
          "metadata": {
            "tags": [],
            "needs_background": "light"
          }
        }
      ]
    },
    {
      "cell_type": "markdown",
      "metadata": {
        "id": "3CHbTL5XRx3S"
      },
      "source": [
        "### Finding distance between dipole 1 & 2 to get certain dmax\n"
      ]
    },
    {
      "cell_type": "code",
      "metadata": {
        "id": "--RD7HvFRv0L",
        "colab": {
          "base_uri": "https://localhost:8080/",
          "height": 301
        },
        "outputId": "cf719954-5440-4b75-f732-40a911e4005e"
      },
      "source": [
        "def dist(dmax, B = B, p = p):\n",
        "  return ((dmax * p)/(0.3 * B * L) - L)/100\n",
        "\n",
        "dmax_arr = np.linspace(0, 30)\n",
        "\n",
        "# Plotting\n",
        "ax = plt.figure()\n",
        "ax = plt.subplot(xlabel=\"$d_{max}$ (cm)\",\n",
        "                 ylabel=\"$D_{12}$ (m)\")\n",
        "ax.grid()\n",
        "ax.plot(dmax_arr, dist(dmax_arr))\n",
        "\n",
        "print(\"d12 = \" + str(round(dist(12), 2)) + \"m\") # printing distance in meters"
      ],
      "execution_count": null,
      "outputs": [
        {
          "output_type": "stream",
          "text": [
            "d12 = 1.86m\n"
          ],
          "name": "stdout"
        },
        {
          "output_type": "display_data",
          "data": {
            "image/png": "[encoded data removed]",
            "text/plain": [
              "<Figure size 432x288 with 1 Axes>"
            ]
          },
          "metadata": {
            "tags": [],
            "needs_background": "light"
          }
        }
      ]
    },
    {
      "cell_type": "markdown",
      "metadata": {
        "id": "qks07RuraXgm"
      },
      "source": [
        "### Results\n",
        "\n",
        "If we had no distance between dipoles 1 & 2 (d12 = 0), then our $d_{max}$ would be 6.4cm. If we want our $d_{max}$ to be the desired 12cm, we would need d12 = 1.86m\n"
      ]
    },
    {
      "cell_type": "markdown",
      "metadata": {
        "id": "vMQElu4iQDCK"
      },
      "source": [
        "#References:\n",
        "https://www.jlab.org/compton/Magnet/ \\\n",
        "https://www.osti.gov/etdeweb/biblio/529053"
      ]
    }
  ]
}